{
 "cells": [
  {
   "cell_type": "code",
   "execution_count": null,
   "id": "79a7c91f-d15e-433c-8a3b-11ce1862d93a",
   "metadata": {},
   "outputs": [
    {
     "name": "stdout",
     "output_type": "stream",
     "text": [
      "\n",
      " Empty 2x2 Array:\n",
      " [[0.00000000e+000 1.17209407e-311]\n",
      " [1.17209407e-311 1.17209407e-311]]\n"
     ]
    }
   ],
   "source": [
    "import numpy as np\n",
    "    \n",
    "# 1. Initialize an empty array with size 2X2\n",
    "earr = np.empty((2, 2))\n",
    "print(\"Empty 2x2 Array:\\n\", earr)"
   ]
  },
  {
   "cell_type": "code",
   "execution_count": 65,
   "id": "2e1449e7",
   "metadata": {},
   "outputs": [
    {
     "name": "stdout",
     "output_type": "stream",
     "text": [
      "All Ones 4x2 Array:\n",
      " [[1. 1.]\n",
      " [1. 1.]\n",
      " [1. 1.]\n",
      " [1. 1.]]\n"
     ]
    }
   ],
   "source": [
    "# 2. Initialize an all one array with size 4X2\n",
    "oarr = np.ones((4, 2))\n",
    "print(\"All Ones 4x2 Array:\\n\", oarr)\n",
    "  "
   ]
  },
  {
   "cell_type": "code",
   "execution_count": null,
   "id": "18a9791a",
   "metadata": {},
   "outputs": [
    {
     "name": "stdout",
     "output_type": "stream",
     "text": [
      "\n",
      " Array filled with 7:\n",
      " [[7 7 7]\n",
      " [7 7 7]\n",
      " [7 7 7]]\n"
     ]
    }
   ],
   "source": [
    "# 3. Return a new array filled with a specific value\n",
    "farr = np.full((3, 3), 7)\n",
    "print(\"Array filled with 7:\\n\", farr)\n",
    "    "
   ]
  },
  {
   "cell_type": "code",
   "execution_count": null,
   "id": "e41d0e5f",
   "metadata": {},
   "outputs": [
    {
     "name": "stdout",
     "output_type": "stream",
     "text": [
      "\n",
      " Zeros Like Existing Array:\n",
      " [[0 0]\n",
      " [0 0]]\n",
      "\n",
      " Ones Like Existing Array:\n",
      " [[1 1]\n",
      " [1 1]]\n"
     ]
    }
   ],
   "source": [
    "# 4. Return zeros like an existing array\n",
    "exarr = np.array([[1, 2], [3, 4]])\n",
    "zearr = np.zeros_like(exarr)\n",
    "print(\"Zeros Like Existing Array:\\n\", zearr)\n",
    "\n",
    "# 5. Return ones like an existing array\n",
    "olarray = np.ones_like(exarr)\n",
    "print(\"\\n Ones Like Existing Array:\\n\", olarray)"
   ]
  },
  {
   "cell_type": "code",
   "execution_count": null,
   "id": "01353c7f",
   "metadata": {},
   "outputs": [
    {
     "name": "stdout",
     "output_type": "stream",
     "text": [
      "\n",
      " List converted to NumPy Array:\n",
      " [1 2 3 4]\n"
     ]
    }
   ],
   "source": [
    "# 6. Convert list to NumPy array\n",
    "new_list = [1, 2, 3, 4]\n",
    "numpy_array = np.array(new_list)\n",
    "print(\"List converted to NumPy Array:\\n\", numpy_array)"
   ]
  },
  {
   "cell_type": "code",
   "execution_count": 3,
   "id": "96a2cba7-6979-4e1f-8f04-3b37030d5b81",
   "metadata": {},
   "outputs": [
    {
     "name": "stdout",
     "output_type": "stream",
     "text": [
      "[10 11 12 13 14 15 16 17 18 19 20 21 22 23 24 25 26 27 28 29 30 31 32 33\n",
      " 34 35 36 37 38 39 40 41 42 43 44 45 46 47 48 49]\n"
     ]
    }
   ],
   "source": [
    "import numpy as np\n",
    "# 1. Create an array with values ranging from 10 to 49\n",
    "arr=np.arange(10,50)\n",
    "print(arr)"
   ]
  },
  {
   "cell_type": "code",
   "execution_count": 5,
   "id": "8339492f",
   "metadata": {},
   "outputs": [
    {
     "name": "stdout",
     "output_type": "stream",
     "text": [
      "[[0 1 2]\n",
      " [3 4 5]\n",
      " [6 7 8]]\n"
     ]
    }
   ],
   "source": [
    "# 2. Create 3by 3 matrix with values ranging from 0 to 8\n",
    "mat = np.arange(0,9).reshape(3,3)\n",
    "print(mat)"
   ]
  },
  {
   "cell_type": "code",
   "execution_count": 6,
   "id": "4260e6a3",
   "metadata": {},
   "outputs": [
    {
     "name": "stdout",
     "output_type": "stream",
     "text": [
      "[[1. 0. 0.]\n",
      " [0. 1. 0.]\n",
      " [0. 0. 1.]]\n"
     ]
    }
   ],
   "source": [
    "imat=np.eye(3)\n",
    "print(imat)"
   ]
  },
  {
   "cell_type": "code",
   "execution_count": 12,
   "id": "5b03cc94",
   "metadata": {},
   "outputs": [
    {
     "name": "stdout",
     "output_type": "stream",
     "text": [
      "Random array: [0.77494164 0.78849924 0.23527435 0.25919779 0.78203813 0.09743911\n",
      " 0.12114899 0.08675813 0.42384213 0.67603164 0.51231524 0.91244388\n",
      " 0.41140068 0.34226968 0.82851705 0.21870929 0.07752911 0.26571131\n",
      " 0.20108527 0.43102001 0.99289975 0.69854211 0.31108459 0.27267385\n",
      " 0.01800741 0.8777386  0.39238076 0.22602718 0.30599067 0.18761718]\n",
      "Mean:  0.42430449268078213\n"
     ]
    }
   ],
   "source": [
    "rarr=np.random.random(30)\n",
    "m=rarr.mean()\n",
    "print(\"Random array:\",rarr)\n",
    "print(\"Mean: \",m)"
   ]
  },
  {
   "cell_type": "code",
   "execution_count": 14,
   "id": "fb337282",
   "metadata": {},
   "outputs": [
    {
     "name": "stdout",
     "output_type": "stream",
     "text": [
      "10 by 10 random array: [[0.90072613 0.91235404 0.06829551 0.51635081 0.10136537 0.9122766\n",
      "  0.37764651 0.60453324 0.86559174 0.42157998]\n",
      " [0.54035919 0.67917127 0.19906283 0.15627558 0.78035037 0.15309361\n",
      "  0.48234695 0.14454861 0.66618202 0.45768142]\n",
      " [0.5582346  0.01117942 0.21770475 0.37332004 0.53712033 0.89895922\n",
      "  0.95786073 0.55833764 0.224181   0.8792615 ]\n",
      " [0.10968855 0.75299053 0.91427643 0.81476427 0.46489774 0.47017601\n",
      "  0.37560412 0.70164282 0.33173405 0.20175398]\n",
      " [0.78602663 0.82404418 0.60273746 0.43409773 0.96702343 0.70078163\n",
      "  0.18843236 0.99712034 0.39993363 0.70819535]\n",
      " [0.24127994 0.17947491 0.21808981 0.04490458 0.51192747 0.81404341\n",
      "  0.28665051 0.26548667 0.86755198 0.88070617]\n",
      " [0.30576405 0.50922803 0.01651923 0.39146673 0.90251971 0.08973742\n",
      "  0.17885584 0.90441579 0.07274878 0.62523278]\n",
      " [0.92878192 0.88774294 0.93397133 0.23991075 0.76472931 0.13570571\n",
      "  0.76328564 0.20684767 0.29035896 0.02591485]\n",
      " [0.90542124 0.09954624 0.95055595 0.49995217 0.1865681  0.288759\n",
      "  0.77232054 0.45453631 0.24512292 0.60158831]\n",
      " [0.61820182 0.7409878  0.35368513 0.82615382 0.35585457 0.24668378\n",
      "  0.52277821 0.74708464 0.59747073 0.0439151 ]]\n",
      "Minimum value:  0.011179417596003494\n",
      "Maximum value 0.9971203434954606\n"
     ]
    }
   ],
   "source": [
    "random=np.random.random((10,10))\n",
    "min=random.min()\n",
    "max=random.max()\n",
    "print(\"10 by 10 random array:\",random)\n",
    "print(\"Minimum value: \",min)\n",
    "print(\"Maximum value\",max)"
   ]
  },
  {
   "cell_type": "code",
   "execution_count": 26,
   "id": "f6d18af5",
   "metadata": {},
   "outputs": [
    {
     "name": "stdout",
     "output_type": "stream",
     "text": [
      "[0 0 0 0 1 0 0 0 0 0]\n"
     ]
    }
   ],
   "source": [
    "zarr=np.zeros((10),dtype=int)\n",
    "zarr[4]=1\n",
    "print(zarr)"
   ]
  },
  {
   "cell_type": "code",
   "execution_count": 16,
   "id": "bda37943",
   "metadata": {},
   "outputs": [
    {
     "name": "stdout",
     "output_type": "stream",
     "text": [
      "[0 4 0 0 2 1]\n"
     ]
    }
   ],
   "source": [
    "arr=np.array([1,2,0,0,4,0])\n",
    "rarr=arr[::-1]\n",
    "print(rarr)"
   ]
  },
  {
   "cell_type": "code",
   "execution_count": 25,
   "id": "93ab6855",
   "metadata": {},
   "outputs": [
    {
     "name": "stdout",
     "output_type": "stream",
     "text": [
      "[[1 1 1 1 1]\n",
      " [1 0 0 0 1]\n",
      " [1 0 0 0 1]\n",
      " [1 0 0 0 1]\n",
      " [1 1 1 1 1]]\n"
     ]
    }
   ],
   "source": [
    "barr=np.ones((5,5),dtype=int)\n",
    "barr[1:-1,1:-1]=0\n",
    "print(barr)"
   ]
  },
  {
   "cell_type": "code",
   "execution_count": 24,
   "id": "96a43183",
   "metadata": {},
   "outputs": [
    {
     "name": "stdout",
     "output_type": "stream",
     "text": [
      "[[0 1 0 1 0 1 0 1]\n",
      " [1 0 1 0 1 0 1 0]\n",
      " [0 1 0 1 0 1 0 1]\n",
      " [1 0 1 0 1 0 1 0]\n",
      " [0 1 0 1 0 1 0 1]\n",
      " [1 0 1 0 1 0 1 0]\n",
      " [0 1 0 1 0 1 0 1]\n",
      " [1 0 1 0 1 0 1 0]]\n"
     ]
    }
   ],
   "source": [
    "chk=np.zeros((8,8),dtype=int)\n",
    "chk[1::2,::2]=1\n",
    "chk[::2,1::2]=1\n",
    "print(chk)"
   ]
  },
  {
   "cell_type": "code",
   "execution_count": 27,
   "id": "33aaeed9",
   "metadata": {},
   "outputs": [
    {
     "name": "stdout",
     "output_type": "stream",
     "text": [
      "[[ 6  8]\n",
      " [10 13]]\n"
     ]
    }
   ],
   "source": [
    "#1 . add two arrays\n",
    "\n",
    "x=np.array([[1,2],[3,5]])\n",
    "y=np.array([[5,6],[7,8]])\n",
    "v=np.array([9,10])\n",
    "w=np.array([11,12])\n",
    "\n",
    "ares=x+y\n",
    "print(ares)"
   ]
  },
  {
   "cell_type": "code",
   "execution_count": 28,
   "id": "4e7f521b",
   "metadata": {},
   "outputs": [
    {
     "name": "stdout",
     "output_type": "stream",
     "text": [
      "[[-4 -4]\n",
      " [-4 -3]]\n"
     ]
    }
   ],
   "source": [
    "#2. Subtract the two arrays \n",
    "sres=x-y\n",
    "print(sres)"
   ]
  },
  {
   "cell_type": "code",
   "execution_count": 29,
   "id": "68882d54",
   "metadata": {},
   "outputs": [
    {
     "name": "stdout",
     "output_type": "stream",
     "text": [
      "[[ 2  4]\n",
      " [ 6 10]]\n",
      "[[20 24]\n",
      " [28 32]]\n"
     ]
    }
   ],
   "source": [
    "#3. Multiply the array with any integers of your choice.\n",
    "xmul=x*2\n",
    "ymul=y*4\n",
    "print(xmul)\n",
    "print(ymul)"
   ]
  },
  {
   "cell_type": "code",
   "execution_count": 30,
   "id": "34c50f74",
   "metadata": {},
   "outputs": [
    {
     "name": "stdout",
     "output_type": "stream",
     "text": [
      "[[ 1  4]\n",
      " [ 9 25]]\n",
      "[[25 36]\n",
      " [49 64]]\n"
     ]
    }
   ],
   "source": [
    "#4. Find the square of each element of the array.\n",
    "xsq=np.square(x)\n",
    "ysq=np.square(y)\n",
    "print(xsq)\n",
    "print(ysq)\n"
   ]
  },
  {
   "cell_type": "code",
   "execution_count": 33,
   "id": "10f9bd92",
   "metadata": {},
   "outputs": [
    {
     "name": "stdout",
     "output_type": "stream",
     "text": [
      "219\n",
      "[29 77]\n",
      "[[19 22]\n",
      " [50 58]]\n"
     ]
    }
   ],
   "source": [
    "#5. Find the dot product between v(and)w ; x(and)v ; x(and)y.\n",
    "dotvw=np.dot(v,w)\n",
    "print(dotvw)\n",
    "\n",
    "dotxv=np.dot(x,v)\n",
    "print(dotxv)\n",
    "\n",
    "dotxy=np.dot(x,y)\n",
    "print(dotxy)"
   ]
  },
  {
   "cell_type": "code",
   "execution_count": 37,
   "id": "3f2399a1",
   "metadata": {},
   "outputs": [
    {
     "name": "stdout",
     "output_type": "stream",
     "text": [
      "[[1 2]\n",
      " [3 5]\n",
      " [5 6]\n",
      " [7 8]]\n",
      "[[ 9 11]\n",
      " [10 12]]\n"
     ]
    }
   ],
   "source": [
    "#6. COncatenate x and y along row and concatenate v and w along column.\n",
    "conxy=np.concatenate((x,y), axis=0)\n",
    "print(conxy)\n",
    "\n",
    "convw=np.vstack((v,w)).T\n",
    "print(convw)"
   ]
  },
  {
   "cell_type": "code",
   "execution_count": null,
   "id": "49856b1e",
   "metadata": {},
   "outputs": [
    {
     "ename": "ValueError",
     "evalue": "all the input arrays must have same number of dimensions, but the array at index 0 has 2 dimension(s) and the array at index 1 has 1 dimension(s)",
     "output_type": "error",
     "traceback": [
      "\u001b[1;31m---------------------------------------------------------------------------\u001b[0m",
      "\u001b[1;31mValueError\u001b[0m                                Traceback (most recent call last)",
      "Cell \u001b[1;32mIn[41], line 1\u001b[0m\n\u001b[1;32m----> 1\u001b[0m conxv\u001b[38;5;241m=\u001b[39m\u001b[43mnp\u001b[49m\u001b[38;5;241;43m.\u001b[39;49m\u001b[43mconcatenate\u001b[49m\u001b[43m(\u001b[49m\u001b[43m(\u001b[49m\u001b[43mx\u001b[49m\u001b[43m,\u001b[49m\u001b[43mv\u001b[49m\u001b[43m)\u001b[49m\u001b[43m,\u001b[49m\u001b[43maxis\u001b[49m\u001b[38;5;241;43m=\u001b[39;49m\u001b[38;5;241;43m0\u001b[39;49m\u001b[43m)\u001b[49m\n",
      "\u001b[1;31mValueError\u001b[0m: all the input arrays must have same number of dimensions, but the array at index 0 has 2 dimension(s) and the array at index 1 has 1 dimension(s)"
     ]
    }
   ],
   "source": [
    "conxv=np.concatenate((x,v),axis=0)\n",
    "#x chai 2by2 matrix ho and v chai 1D array of length 2"
   ]
  },
  {
   "cell_type": "code",
   "execution_count": null,
   "id": "c759caff",
   "metadata": {},
   "outputs": [
    {
     "name": "stdout",
     "output_type": "stream",
     "text": [
      "[[1.00000000e+00 0.00000000e+00]\n",
      " [1.77635684e-15 1.00000000e+00]]\n"
     ]
    }
   ],
   "source": [
    "#Problem 4: Matrix Operation\n",
    "\n",
    "a=np.array([[3,4],[7,8]])\n",
    "b=np.array([[5,3],[2,1]])\n",
    "\n",
    "#Prove A.A^-1 = I\n",
    "invA=np.linalg.inv(a)\n",
    "idmat=np.dot(a,invA)\n",
    "print(idmat)"
   ]
  },
  {
   "cell_type": "code",
   "execution_count": null,
   "id": "3c61435b",
   "metadata": {},
   "outputs": [
    {
     "name": "stdout",
     "output_type": "stream",
     "text": [
      "AB: \n",
      " [[23 13]\n",
      " [51 29]]\n",
      "BA: \n",
      " [[36 44]\n",
      " [13 16]]\n",
      "not equal. Hence, proved\n"
     ]
    }
   ],
   "source": [
    "#Prove AB != BA\n",
    "ab=np.dot(a,b)\n",
    "ba=np.dot(b,a)\n",
    "print(\"AB: \\n\",ab)\n",
    "print(\"BA: \\n\",ba)\n",
    "if np.array_equal(ab,ba):\n",
    "    print(\"Equal\")\n",
    "else:\n",
    "    print(\"not equal. Hence, proved\")"
   ]
  },
  {
   "cell_type": "code",
   "execution_count": 51,
   "id": "3d58f6b6",
   "metadata": {},
   "outputs": [
    {
     "name": "stdout",
     "output_type": "stream",
     "text": [
      "LHS: \n",
      " [[23 51]\n",
      " [13 29]]\n",
      "RHS: \n",
      " [[23 51]\n",
      " [13 29]]\n",
      "Equal. Hence, proved\n"
     ]
    }
   ],
   "source": [
    "\n",
    "abtran=np.transpose(ab)\n",
    "a_btran=np.dot(b.T,a.T)\n",
    "print(\"LHS: \\n\",abtran)\n",
    "print(\"RHS: \\n\",a_btran)\n",
    "if np.array_equal(abtran,a_btran):\n",
    "    print(\"Equal. Hence, proved\")\n",
    "else:\n",
    "    print(\"not equal\")"
   ]
  },
  {
   "cell_type": "code",
   "execution_count": 57,
   "id": "5a6ce042",
   "metadata": {},
   "outputs": [
    {
     "name": "stdout",
     "output_type": "stream",
     "text": [
      "Solution: \n",
      " [ 2.  1. -2.]\n"
     ]
    }
   ],
   "source": [
    "coeff=np.array([[2,-3,1],[1,-1,2],[3,1,-1]])\n",
    "\n",
    "cons=np.array([-1,-3,9])\n",
    "\n",
    "res = np.dot(np.linalg.inv(coeff),cons)# formula A^(-1)*B\n",
    "\n",
    "print(\"Solution: \\n\",res)"
   ]
  },
  {
   "cell_type": "code",
   "execution_count": null,
   "id": "35d9e845",
   "metadata": {},
   "outputs": [],
   "source": []
  }
 ],
 "metadata": {
  "kernelspec": {
   "display_name": "Python 3 (ipykernel)",
   "language": "python",
   "name": "python3"
  },
  "language_info": {
   "codemirror_mode": {
    "name": "ipython",
    "version": 3
   },
   "file_extension": ".py",
   "mimetype": "text/x-python",
   "name": "python",
   "nbconvert_exporter": "python",
   "pygments_lexer": "ipython3",
   "version": "3.13.0"
  }
 },
 "nbformat": 4,
 "nbformat_minor": 5
}
